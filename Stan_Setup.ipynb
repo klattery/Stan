{
  "nbformat": 4,
  "nbformat_minor": 0,
  "metadata": {
    "colab": {
      "name": "Stan_Setup.ipynb",
      "provenance": [],
      "collapsed_sections": [],
      "authorship_tag": "ABX9TyN/LWKzL3eIVEvXT8YIP2Kr",
      "include_colab_link": true
    },
    "kernelspec": {
      "display_name": "R",
      "name": "ir"
    },
    "language_info": {
      "name": "R"
    }
  },
  "cells": [
    {
      "cell_type": "markdown",
      "metadata": {
        "id": "view-in-github",
        "colab_type": "text"
      },
      "source": [
        "<a href=\"https://colab.research.google.com/github/klattery/Stan/blob/master/Stan_Setup.ipynb\" target=\"_parent\"><img src=\"https://colab.research.google.com/assets/colab-badge.svg\" alt=\"Open In Colab\"/></a>"
      ]
    },
    {
      "cell_type": "markdown",
      "metadata": {
        "id": "q3x0a8XKIEZL"
      },
      "source": [
        "**1) Install cmdstanr & Get system info**"
      ]
    },
    {
      "cell_type": "code",
      "metadata": {
        "id": "WJfQgzHul9xZ"
      },
      "source": [
        "library(devtools)\n",
        "devtools::install_github(\"stan-dev/cmdstanr\", dependencies=c(\"Depends\", \"Imports\"))\n",
        "install.packages(\"benchmarkme\")\n",
        "library(cmdstanr); library(posterior); library(benchmarkme)\n",
        "Sys.info();get_cpu();get_ram()"
      ],
      "execution_count": null,
      "outputs": []
    },
    {
      "cell_type": "markdown",
      "metadata": {
        "id": "TtOahS5NIRgG"
      },
      "source": [
        "**2) Install Stan**"
      ]
    },
    {
      "cell_type": "code",
      "metadata": {
        "id": "EYv5ujrVm9Dt"
      },
      "source": [
        "if (!file.exists(\"cmdstan-2.23.0.tgz\")) {\n",
        "  system(\"wget https://github.com/stan-dev/cmdstan/releases/download/v2.23.0/colab-cmdstan-2.23.0.tar.gz\", intern=T)\n",
        "  system(\"tar zxf colab-cmdstan-2.23.0.tar.gz\", intern=T)\n",
        "}\n",
        "set_cmdstan_path(\"cmdstan-2.23.0\")"
      ],
      "execution_count": null,
      "outputs": []
    },
    {
      "cell_type": "markdown",
      "metadata": {
        "id": "nBwDnTrjIkQg"
      },
      "source": [
        "**3) Choose Model and Load Data**"
      ]
    },
    {
      "cell_type": "code",
      "metadata": {
        "id": "Q7c7rN9QotvZ"
      },
      "source": [
        "HB_model <- cmdstan_model(\"MNL_BartBlockCon_v1_7.stan\", quiet = TRUE)\n",
        "load(\"data_conjoint.RData\") # Uploaded data to Colab"
      ],
      "execution_count": null,
      "outputs": []
    },
    {
      "cell_type": "markdown",
      "metadata": {
        "id": "YpYpYTICI3-O"
      },
      "source": [
        "**4) Specify constraints and HB specfics**"
      ]
    },
    {
      "cell_type": "code",
      "metadata": {
        "id": "UyrgZm7Xo3Hg"
      },
      "source": [
        "# Specify constraints (sign only)\n",
        "# For each parameter: 0 = no constraint, +1 = positive, -1 = negative\n",
        "P <- data_conjoint$P\n",
        "con_sign <- rep(0,P)\n",
        "con_sign[18:21] <- -1 # Negative utilities for price slopes\n",
        "\n",
        "# Modeling parameters. This overwrites/adds to the data file we pass to Stan.\n",
        "data_model <- list(\n",
        "  con_sign = con_sign,\n",
        "  prior_cov = data_conjoint$prior_cov * 1, # Change cov scale here  \n",
        "  df = 5, # Degrees of freedom\n",
        "  prior_alpha = rep(0, P),\n",
        "  a_sig = 10,\n",
        "  cov_block = matrix(1, P, P),\n",
        "  splitsize = round(.5 + data_conjoint$T/(4 * threads[[2]])),\n",
        "  agg_model = NULL,\n",
        ")"
      ],
      "execution_count": null,
      "outputs": []
    },
    {
      "cell_type": "markdown",
      "metadata": {
        "id": "S61hyYgTJPMJ"
      },
      "source": [
        "**Run model**"
      ]
    },
    {
      "cell_type": "code",
      "metadata": {
        "id": "7ZhCahQgrz1U"
      },
      "source": [
        "outname <- paste0(\"Stan_BaseMNL-\", # edit as desired\n",
        "                  format(Sys.time(), '%Y%m%d-%H%M%S')) \n",
        "HB_model$sample(modifyList(data_conjoint, data_model),\n",
        "                iter_warmup = 200,\n",
        "                iter_sampling = 200,\n",
        "                output_dir =\"/content\",\n",
        "                output_basename = outname,\n",
        "                chains = 2,\n",
        "                save_warmup = TRUE,\n",
        "                refresh = 10,\n",
        "                seed = 271,\n",
        "                init = .1,\n",
        "                show_messages = FALSE,\n",
        "                validate_csv = FALSE\n",
        ")"
      ],
      "execution_count": null,
      "outputs": []
    },
    {
      "cell_type": "markdown",
      "metadata": {
        "id": "yVy6ObN8dYsw"
      },
      "source": [
        "**`Check Convergence`**"
      ]
    },
    {
      "cell_type": "code",
      "metadata": {
        "id": "LK_umURNbU2P"
      },
      "source": [
        "library(\"posterior\")\n",
        "csv_name <- c(paste0(outname,\"-1.csv\"),\n",
        "              paste0(outname,\"-2.csv\")\n",
        ") # Output files in path: assumes you have two chains\n",
        "draws_upper <- read_cmdstan_csv(file.path(\"/content\", csv_name), variables = c(\"alpha\"))\n",
        "fit_stats <- summarize_draws(draws_upper$post_warmup_draws)\n",
        "fit_stats$variable <- colnames(data_conjoint$ind)\n",
        "fit_stats <- fit_stats[,-4:-5]\n",
        "fit_stats[,-1] <- round(fit_stats[,-1],2)\n",
        "fit_stats"
      ],
      "execution_count": null,
      "outputs": []
    },
    {
      "cell_type": "markdown",
      "metadata": {
        "id": "T3eN5_9-kg5R"
      },
      "source": [
        "Plot Mean Utilities by Iteration and Compute Point Estimates"
      ]
    },
    {
      "cell_type": "code",
      "metadata": {
        "colab": {
          "background_save": true
        },
        "id": "aMCdJFFpjvOb"
      },
      "source": [
        "draws_beta <- read_cmdstan_csv(file.path(\"/content\", csv_name), variables = \"beta_ind\", sampler_diagnostics = \"\")\n",
        "ndraws <- dim(draws_beta$post_warmup_draws)[1]\n",
        "draws_beta_mu1 <- t(sapply(1:ndraws, function(i){\n",
        "  beta_mu <- colMeans(matrix(draws_beta$post_warmup_draws[i,1,],data_conjoint$I,data_conjoint$P, byrow = TRUE))  \n",
        "}))\n",
        "draws_beta_mu2 <- t(sapply(1:ndraws, function(i){\n",
        "  beta_mu <- colMeans(matrix(draws_beta$post_warmup_draws[i,2,],data_conjoint$I,data_conjoint$P, byrow = TRUE))  \n",
        "}))\n",
        "for (i in 1:ncol(draws_beta_mu1)){\n",
        "  x <- cbind(draws_beta_mu1[,i],draws_beta_mu2[,i])\n",
        "  plot(x[,1], type = \"l\", col = \"red\", main = paste(\"Mean Beta \", colnames(data_conjoint$ind)[i],\n",
        "                                                    \"| rhat = \", round(rhat(x),2),\n",
        "                                                    \"| ESS = \", round(ess_basic(x),1)\n",
        "  ))\n",
        "  lines(x[,2], type = \"l\", col = \"blue\")\n",
        "}\n",
        "utilities <- matrix(colMeans(draws_beta$post_warmup_draws, dims = 2),\n",
        "                    data_conjoint$I, data_conjoint$P, byrow = TRUE)\n",
        "write.table(utilities, file = file.path(\"/content\", \"beta_final_r.csv\"), sep = \",\", na = \".\", row.names = FALSE)\n"
      ],
      "execution_count": null,
      "outputs": []
    }
  ]
}